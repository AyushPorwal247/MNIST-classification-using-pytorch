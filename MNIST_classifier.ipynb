{
  "nbformat": 4,
  "nbformat_minor": 0,
  "metadata": {
    "colab": {
      "provenance": [],
      "gpuType": "T4",
      "include_colab_link": true
    },
    "kernelspec": {
      "name": "python3",
      "display_name": "Python 3"
    },
    "language_info": {
      "name": "python"
    },
    "accelerator": "GPU",
    "gpuClass": "standard"
  },
  "cells": [
    {
      "cell_type": "markdown",
      "metadata": {
        "id": "view-in-github",
        "colab_type": "text"
      },
      "source": [
        "<a href=\"https://colab.research.google.com/github/AyushPorwal247/MNIST-classification-using-pytorch/blob/main/MNIST_classifier.ipynb\" target=\"_parent\"><img src=\"https://colab.research.google.com/assets/colab-badge.svg\" alt=\"Open In Colab\"/></a>"
      ]
    },
    {
      "cell_type": "markdown",
      "source": [
        "Importing Dependencies"
      ],
      "metadata": {
        "id": "JcyfbQmTOouF"
      }
    },
    {
      "cell_type": "code",
      "execution_count": 19,
      "metadata": {
        "id": "XTHh72pdN9rB"
      },
      "outputs": [],
      "source": [
        "import torch\n",
        "import torchvision\n",
        "import torchvision.transforms as transforms\n",
        "import torch.optim as optim\n",
        "import torch.nn as nn\n",
        "\n",
        "import cv2\n",
        "import matplotlib.pyplot as plt\n",
        "import numpy as np"
      ]
    },
    {
      "cell_type": "markdown",
      "source": [
        "Defining transformer to convert our data to pytorch format and normalizing our data"
      ],
      "metadata": {
        "id": "5BiavPGQUspD"
      }
    },
    {
      "cell_type": "code",
      "source": [
        "#Transforms data and normalizes values between -1 and 1.\n",
        "transform = transforms.Compose([transforms.ToTensor(),\n",
        "                                transforms.Normalize((0.5),(0.5))])"
      ],
      "metadata": {
        "id": "kg8cv1fLVOEy"
      },
      "execution_count": 20,
      "outputs": []
    },
    {
      "cell_type": "markdown",
      "source": [
        "Fetching data"
      ],
      "metadata": {
        "id": "-ntQ2h_BWuJK"
      }
    },
    {
      "cell_type": "code",
      "source": [
        "#Downloading training data\n",
        "trainset = torchvision.datasets.MNIST('mnist',\n",
        "                                      train = True,\n",
        "                                      download = True,\n",
        "                                      transform = transform)\n",
        "\n",
        "#Downloading testing data\n",
        "testset = torchvision.datasets.MNIST('mnist',\n",
        "                                    train = False,\n",
        "                                    download = True,\n",
        "                                    transform = transform)"
      ],
      "metadata": {
        "id": "dX4_1yd9WAxJ"
      },
      "execution_count": 21,
      "outputs": []
    },
    {
      "cell_type": "code",
      "source": [
        "#Function for plotting data\n",
        "def imgshow(image = None, size = 5):\n",
        "  w, h = image.shape[0], image.shape[1]\n",
        "  aspect_ratio = w/h\n",
        "  plt.figure(figsize = (size*aspect_ratio, size))\n",
        "  plt.imshow(cv2.cvtColor(image, cv2.COLOR_BGR2RGB))\n",
        "  plt.axis(False)\n",
        "  plt.show()"
      ],
      "metadata": {
        "id": "kYqOOvvfBiTA"
      },
      "execution_count": 30,
      "outputs": []
    },
    {
      "cell_type": "code",
      "source": [
        "image = trainset.data[0].numpy()\n",
        "imgshow(image)"
      ],
      "metadata": {
        "id": "4sYj00Y2DqC2",
        "outputId": "4fe6df42-cc89-428a-b121-78de325c9fd4",
        "colab": {
          "base_uri": "https://localhost:8080/",
          "height": 422
        }
      },
      "execution_count": 31,
      "outputs": [
        {
          "output_type": "display_data",
          "data": {
            "text/plain": [
              "<Figure size 500x500 with 1 Axes>"
            ],
            "image/png": "[encoded data removed]"
          },
          "metadata": {}
        }
      ]
    },
    {
      "cell_type": "code",
      "source": [],
      "metadata": {
        "id": "StXgKhFuGEer"
      },
      "execution_count": null,
      "outputs": []
    }
  ]
}